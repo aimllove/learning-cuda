{
 "cells": [
  {
   "cell_type": "markdown",
   "metadata": {
    "id": "eGBgThS8q8k3"
   },
   "source": [
    "Họ tên: Nguyễn Minh Vũ\n",
    "\n",
    "MSSV: 1712920"
   ]
  },
  {
   "cell_type": "markdown",
   "metadata": {
    "id": "7qdrvDrCrnqz"
   },
   "source": [
    "# BT04: Song song hóa Radix Sort"
   ]
  },
  {
   "cell_type": "markdown",
   "metadata": {
    "id": "QkZaH7EE-ocN"
   },
   "source": [
    "Bạn có thể tùy ý thêm/xóa cell. Đừng xóa mấy cell có chữ của mình là được."
   ]
  },
  {
   "cell_type": "code",
   "execution_count": 1,
   "metadata": {
    "colab": {
     "base_uri": "https://localhost:8080/"
    },
    "executionInfo": {
     "elapsed": 1294,
     "status": "ok",
     "timestamp": 1610038218356,
     "user": {
      "displayName": "Vu Nguyen",
      "photoUrl": "",
      "userId": "03143780232760860132"
     },
     "user_tz": -420
    },
    "id": "89RVeip_88Tz",
    "outputId": "ebad82b1-8b33-4633-c52a-390e2e6109eb"
   },
   "outputs": [
    {
     "name": "stdout",
     "output_type": "stream",
     "text": [
      "Drive already mounted at /content/drive; to attempt to forcibly remount, call drive.mount(\"/content/drive\", force_remount=True).\n"
     ]
    }
   ],
   "source": [
    "# Run this cell to mount Google Drive to Colab\n",
    "from google.colab import drive\n",
    "drive.mount('/content/drive')"
   ]
  },
  {
   "cell_type": "code",
   "execution_count": 2,
   "metadata": {
    "colab": {
     "base_uri": "https://localhost:8080/"
    },
    "executionInfo": {
     "elapsed": 1817,
     "status": "ok",
     "timestamp": 1610038218915,
     "user": {
      "displayName": "Vu Nguyen",
      "photoUrl": "",
      "userId": "03143780232760860132"
     },
     "user_tz": -420
    },
    "id": "tbFLx1i4JxIE",
    "outputId": "9f5b0733-5f41-496a-8c02-0b96c0099f9c"
   },
   "outputs": [
    {
     "name": "stdout",
     "output_type": "stream",
     "text": [
      "/content/drive/MyDrive/BT04\n"
     ]
    }
   ],
   "source": [
    "# Change directory to the containing folder\r\n",
    "%cd /content/drive/MyDrive/BT04"
   ]
  },
  {
   "cell_type": "code",
   "execution_count": 3,
   "metadata": {
    "executionInfo": {
     "elapsed": 2167,
     "status": "ok",
     "timestamp": 1610038219290,
     "user": {
      "displayName": "Vu Nguyen",
      "photoUrl": "",
      "userId": "03143780232760860132"
     },
     "user_tz": -420
    },
    "id": "aZNqZuECjNso"
   },
   "outputs": [],
   "source": [
    "# Compile code\r\n",
    "!nvcc bt04.cu -o bt04"
   ]
  },
  {
   "cell_type": "code",
   "execution_count": 4,
   "metadata": {
    "colab": {
     "base_uri": "https://localhost:8080/"
    },
    "executionInfo": {
     "elapsed": 13161,
     "status": "ok",
     "timestamp": 1610038230304,
     "user": {
      "displayName": "Vu Nguyen",
      "photoUrl": "",
      "userId": "03143780232760860132"
     },
     "user_tz": -420
    },
    "id": "iiwIzq9MptOp",
    "outputId": "d44e41c0-2225-4fcc-aead-fa67b7b59d73"
   },
   "outputs": [
    {
     "name": "stdout",
     "output_type": "stream",
     "text": [
      "**********GPU info**********\n",
      "Name: Tesla T4\n",
      "Compute capability: 7.5\n",
      "Num SMs: 40\n",
      "Max num threads per SM: 1024\n",
      "Max num warps per SM: 32\n",
      "GMEM: 15812263936 byte\n",
      "SMEM per SM: 65536 byte\n",
      "SMEM per block: 49152 byte\n",
      "****************************\n",
      "\n",
      "Input size: 16777217\n",
      "\n",
      "Radix Sort by host\n",
      "Time: 9101.487 ms\n",
      "\n",
      "Radix Sort by device\n",
      "Time: 1123.632 ms\n",
      "CORRECT :)\n"
     ]
    }
   ],
   "source": [
    "# blockSize = 256\r\n",
    "!./bt04 256"
   ]
  },
  {
   "cell_type": "code",
   "execution_count": 5,
   "metadata": {
    "executionInfo": {
     "elapsed": 13137,
     "status": "ok",
     "timestamp": 1610038230306,
     "user": {
      "displayName": "Vu Nguyen",
      "photoUrl": "",
      "userId": "03143780232760860132"
     },
     "user_tz": -420
    },
    "id": "E_wDu4HO0Osk"
   },
   "outputs": [],
   "source": [
    "# blockSize = 512\r\n",
    "!./bt04 512"
   ]
  },
  {
   "cell_type": "code",
   "execution_count": 6,
   "metadata": {
    "colab": {
     "base_uri": "https://localhost:8080/"
    },
    "executionInfo": {
     "elapsed": 23816,
     "status": "ok",
     "timestamp": 1610038241012,
     "user": {
      "displayName": "Vu Nguyen",
      "photoUrl": "",
      "userId": "03143780232760860132"
     },
     "user_tz": -420
    },
    "id": "3HoLcDlWoeyj",
    "outputId": "58ba7c9e-e9e4-4591-adec-1797ade37fee"
   },
   "outputs": [
    {
     "name": "stdout",
     "output_type": "stream",
     "text": [
      "**********GPU info**********\n",
      "Name: Tesla T4\n",
      "Compute capability: 7.5\n",
      "Num SMs: 40\n",
      "Max num threads per SM: 1024\n",
      "Max num warps per SM: 32\n",
      "GMEM: 15812263936 byte\n",
      "SMEM per SM: 65536 byte\n",
      "SMEM per block: 49152 byte\n",
      "****************************\n",
      "\n",
      "Input size: 16777217\n",
      "\n",
      "Radix Sort by host\n",
      "Time: 9105.023 ms\n",
      "\n",
      "Radix Sort by device\n",
      "Time: 522.925 ms\n",
      "CORRECT :)\n"
     ]
    }
   ],
   "source": [
    "# blockSize = 1024\r\n",
    "!./bt04 1024"
   ]
  },
  {
   "cell_type": "markdown",
   "metadata": {
    "id": "XebMjR45-0Io"
   },
   "source": [
    "`blockSize` càng lớn, hàm kernel thực thi càng nhanh.\r\n",
    "\r\n",
    "Theo em, nhờ cơ chế `volatile` và `__threadfence()` nên mỗi thao tác read/write với `bSums` là một thao tác read/write thực được thực hiện trên `SMEM` (đối với biến `bi`) và `GMEM` (đối với mảng `d_bSums`).\r\n",
    "\r\n",
    "Mà chỉ có `thread` 0 của mỗi `block` mới được cập nhật `bSums`. Nên `blockSize` càng lớn thì số lần cập nhật càng ít (vì `gridSize` nhỏ) nên chương trình được tăng tốc đáng kể."
   ]
  }
 ],
 "metadata": {
  "accelerator": "GPU",
  "colab": {
   "collapsed_sections": [],
   "name": "bt04.ipynb",
   "provenance": []
  },
  "kernelspec": {
   "display_name": "Python 3",
   "language": "python",
   "name": "python3"
  },
  "language_info": {
   "codemirror_mode": {
    "name": "ipython",
    "version": 3
   },
   "file_extension": ".py",
   "mimetype": "text/x-python",
   "name": "python",
   "nbconvert_exporter": "python",
   "pygments_lexer": "ipython3",
   "version": "3.7.4"
  }
 },
 "nbformat": 4,
 "nbformat_minor": 4
}
